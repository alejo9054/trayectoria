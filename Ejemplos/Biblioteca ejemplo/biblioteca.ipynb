{
 "cells": [
  {
   "cell_type": "code",
   "execution_count": null,
   "id": "hungry-potato",
   "metadata": {},
   "outputs": [],
   "source": [
    "from Biblioteca import Biblioteca\n",
    "from Libro import Libro\n",
    "\n",
    "if __name__ == '__main__':\n",
    "    ejecutar = True\n",
    "    \n",
    "    while(ejecutar):\n",
    "        print(\"- - - B I B L I O T E C A S - - -\")\n",
    "        opcion = int(input(\"¿Qué vas a hacer?:\\n1-Crear Biblioteca\\n2-Agregar libro\\n3-Ver catalogo\\n4-Quitar Libro\\n5-Salir\\n:\"))\n",
    "        \n",
    "        if opcion == 1:\n",
    "            nombre = input(\"Nombre de la biblioteca: \")\n",
    "            biblioteca = Biblioteca(nombre)\n",
    "\n",
    "            print(\"Se creo la biblioteca: {}\".format(biblioteca.consultar_nombre_biblioteca))\n",
    "\n",
    "        elif opcion == 2:\n",
    "            titulo = input(\"Titulo: \")\n",
    "            autor = input(\"Autor: \")\n",
    "            cantidad_de_paginas = input(\"Paginas: \")\n",
    "            genero = input(\"Genero: \")\n",
    "            sinopsis = input(\"Sinopsis: \")\n",
    "\n",
    "            libro = Libro(titulo, autor, cantidad_de_paginas, genero, sinopsis)\n",
    "            biblioteca.agregar_libro(libro)\n",
    "        \n",
    "        elif opcion == 3:\n",
    "            print(\"Catalogo de libros: \")\n",
    "            for i in biblioteca.consultar_libros():\n",
    "                print(i)\n",
    "\n",
    "        elif opcion == 4:\n",
    "            indice = input(\"Id del libro a eliminar: \")\n",
    "            biblioteca.quitar_libro(indice)\n",
    "\n",
    "        elif opcion == 5:\n",
    "            ejecutar = False\n",
    "\n",
    "        else:\n",
    "            print(\"Opcion incorrecta\")"
   ]
  }
 ],
 "metadata": {
  "kernelspec": {
   "display_name": "Python 3",
   "language": "python",
   "name": "python3"
  },
  "language_info": {
   "codemirror_mode": {
    "name": "ipython",
    "version": 3
   },
   "file_extension": ".py",
   "mimetype": "text/x-python",
   "name": "python",
   "nbconvert_exporter": "python",
   "pygments_lexer": "ipython3",
   "version": "3.8.5"
  }
 },
 "nbformat": 4,
 "nbformat_minor": 5
}
