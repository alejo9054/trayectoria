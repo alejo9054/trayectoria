{
 "cells": [
  {
   "cell_type": "code",
   "execution_count": 4,
   "id": "activated-vermont",
   "metadata": {},
   "outputs": [],
   "source": [
    "#habilidad de tomar varias formas\n",
    "#podemos editar metodos que ya estan definidos en la super clase para q en la herencia se comporten distindo\n",
    "class Persona:\n",
    "    def __init__(self, nombre):\n",
    "        self.nombre = nombre\n",
    "        \n",
    "    def avanza(self):\n",
    "        print('Ando caminando')\n",
    "        \n",
    "class Ciclista(Persona):\n",
    "    def __init__(self, nombre):\n",
    "        super().__init__(nombre)\n",
    "        \n",
    "    def avanza(self):\n",
    "        print('Ando moviendome en mi bicicleta')\n",
    "        \n",
    "##declarando funcion main, la que indica donde inicia el programa \n",
    "def main():\n",
    "    persona = Persona('David')\n",
    "    persona.avanza()\n",
    "    \n",
    "    ciclista = Ciclista('Daniel')\n",
    "    ciclista.avanza()\n"
   ]
  },
  {
   "cell_type": "code",
   "execution_count": 5,
   "id": "compliant-psychiatry",
   "metadata": {},
   "outputs": [
    {
     "name": "stdout",
     "output_type": "stream",
     "text": [
      "Ando caminando\n",
      "Ando moviendome en mi bicicleta\n"
     ]
    }
   ],
   "source": [
    "## punto de entrada para cuando se llame el programa por consola\n",
    "if __name__ == '__main__':\n",
    "    main()"
   ]
  },
  {
   "cell_type": "code",
   "execution_count": null,
   "id": "diverse-banks",
   "metadata": {},
   "outputs": [],
   "source": []
  }
 ],
 "metadata": {
  "kernelspec": {
   "display_name": "Python 3",
   "language": "python",
   "name": "python3"
  },
  "language_info": {
   "codemirror_mode": {
    "name": "ipython",
    "version": 3
   },
   "file_extension": ".py",
   "mimetype": "text/x-python",
   "name": "python",
   "nbconvert_exporter": "python",
   "pygments_lexer": "ipython3",
   "version": "3.8.5"
  }
 },
 "nbformat": 4,
 "nbformat_minor": 5
}
