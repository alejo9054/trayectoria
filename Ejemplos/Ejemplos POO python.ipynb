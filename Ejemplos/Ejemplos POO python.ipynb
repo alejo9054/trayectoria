{
 "cells": [
  {
   "cell_type": "code",
   "execution_count": 65,
   "id": "constitutional-tobago",
   "metadata": {},
   "outputs": [],
   "source": [
    "class Hotel:\n",
    "    \n",
    "    def __init__(self,nombre_hotel, numero_maximo_de_huespedes, lugares_de_estacionamiento):\n",
    "        self.nombre_hotel = nombre_hotel\n",
    "        self.numero_maximo_de_huespedes = numero_maximo_de_huespedes\n",
    "        self.lugares_de_estacionamiento = lugares_de_estacionamiento\n",
    "        self.huespedes = 0\n",
    "    def __str__(self):\n",
    "        return self.nombre_hotel\n",
    "    def añadir_huespedes(self, num_huespedes):\n",
    "        self.huespedes += num_huespedes\n",
    "    \n",
    "    def checkout(self, cantidad_de_huespedes):\n",
    "        self.huespedes -= cantidad_de_huespedes\n",
    "\n",
    "    def ocupacion_total(self):\n",
    "        return self.huespedes\n",
    "    def nombre(self):\n",
    "        return f'Este es el Hotel {self.nombre_hotel}'\n",
    "    \n",
    "    \n",
    "    "
   ]
  },
  {
   "cell_type": "code",
   "execution_count": 70,
   "id": "compliant-evidence",
   "metadata": {},
   "outputs": [
    {
     "name": "stdout",
     "output_type": "stream",
     "text": [
      "pedro\n"
     ]
    }
   ],
   "source": [
    "hotel = Hotel(\"pedro\",50,20)\n",
    "print(hotel)"
   ]
  },
  {
   "cell_type": "code",
   "execution_count": 71,
   "id": "mineral-patrol",
   "metadata": {},
   "outputs": [],
   "source": [
    "hotel.añadir_huespedes(20)"
   ]
  },
  {
   "cell_type": "code",
   "execution_count": 72,
   "id": "dedicated-placement",
   "metadata": {},
   "outputs": [
    {
     "data": {
      "text/plain": [
       "20"
      ]
     },
     "execution_count": 72,
     "metadata": {},
     "output_type": "execute_result"
    }
   ],
   "source": [
    "hotel.ocupacion_total()"
   ]
  },
  {
   "cell_type": "code",
   "execution_count": 73,
   "id": "varied-dairy",
   "metadata": {},
   "outputs": [
    {
     "data": {
      "text/plain": [
       "'Este es el Hotel pedro'"
      ]
     },
     "execution_count": 73,
     "metadata": {},
     "output_type": "execute_result"
    }
   ],
   "source": [
    "hotel.nombre()"
   ]
  },
  {
   "cell_type": "code",
   "execution_count": 77,
   "id": "empty-executive",
   "metadata": {},
   "outputs": [
    {
     "name": "stdout",
     "output_type": "stream",
     "text": [
      "22.02271554554524\n",
      "True\n"
     ]
    }
   ],
   "source": [
    "class Coordenada:\n",
    "    def __init__(self, x, y):\n",
    "        self.x = x\n",
    "        self.y = y\n",
    "        \n",
    "    def distancia(self, otra_coordenada):\n",
    "    \n",
    "        x_diff = (self.x - otra_coordenada.x)**2\n",
    "        y_diff = (self.y - otra_coordenada.y)**2\n",
    "        \n",
    "        return (x_diff + y_diff)**0.5\n",
    "    \n",
    "if __name__ == '__main__':#este comando es para que se llame el programa en consola y ejecute lo q se agrege acontinuacion\n",
    "    #en jupyter no es necesario\n",
    "    coord_1 = Coordenada(3,30)\n",
    "    coord_2 = Coordenada(4, 8)\n",
    "    print(coord_1.distancia(coord_2))\n",
    "    print(isinstance(coord_2, Coordenada))## devieve si una instancia pertenece al modelo o clase que se indique\n",
    "    "
   ]
  },
  {
   "cell_type": "code",
   "execution_count": null,
   "id": "selective-perry",
   "metadata": {},
   "outputs": [],
   "source": []
  }
 ],
 "metadata": {
  "kernelspec": {
   "display_name": "Python 3",
   "language": "python",
   "name": "python3"
  },
  "language_info": {
   "codemirror_mode": {
    "name": "ipython",
    "version": 3
   },
   "file_extension": ".py",
   "mimetype": "text/x-python",
   "name": "python",
   "nbconvert_exporter": "python",
   "pygments_lexer": "ipython3",
   "version": "3.8.5"
  }
 },
 "nbformat": 4,
 "nbformat_minor": 5
}
