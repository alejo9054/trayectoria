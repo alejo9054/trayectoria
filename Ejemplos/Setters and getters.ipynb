{
 "cells": [
  {
   "cell_type": "code",
   "execution_count": 1,
   "id": "official-complaint",
   "metadata": {},
   "outputs": [],
   "source": [
    "class CasillaDeVotacion:\n",
    "    \n",
    "    def __init__(self, identificador, pais):\n",
    "        self._identificador = identificador\n",
    "        self._pais = pais\n",
    "        self._region = None\n",
    "\n",
    "    @property\n",
    "    def region(self):\n",
    "        return self._region\n",
    "\n",
    "    @region.setter\n",
    "    def region(self, region):\n",
    "        if region in self._pais:\n",
    "            self._region = region\n",
    "        else:\n",
    "            raise ValueError(f'La region {region} no esta en la lista')"
   ]
  },
  {
   "cell_type": "code",
   "execution_count": 2,
   "id": "noble-bulgarian",
   "metadata": {},
   "outputs": [
    {
     "name": "stdout",
     "output_type": "stream",
     "text": [
      "None\n",
      "Mexico\n"
     ]
    }
   ],
   "source": [
    "casilla = CasillaDeVotacion(123,['Mexico','Morelos'])\n",
    "print(casilla.region)\n",
    "casilla.region = 'Mexico'\n",
    "print(casilla.region)"
   ]
  },
  {
   "cell_type": "code",
   "execution_count": null,
   "id": "annoying-crystal",
   "metadata": {},
   "outputs": [],
   "source": []
  }
 ],
 "metadata": {
  "kernelspec": {
   "display_name": "Python 3",
   "language": "python",
   "name": "python3"
  },
  "language_info": {
   "codemirror_mode": {
    "name": "ipython",
    "version": 3
   },
   "file_extension": ".py",
   "mimetype": "text/x-python",
   "name": "python",
   "nbconvert_exporter": "python",
   "pygments_lexer": "ipython3",
   "version": "3.8.5"
  }
 },
 "nbformat": 4,
 "nbformat_minor": 5
}
