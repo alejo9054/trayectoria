{
 "cells": [
  {
   "cell_type": "code",
   "execution_count": 1,
   "id": "generic-chamber",
   "metadata": {},
   "outputs": [],
   "source": [
    "class Rectangulo:\n",
    "    def __init__(self,base, altura):\n",
    "        self.base = base\n",
    "        self.altura = altura #iniciamos las variables de entrada\n",
    "        \n",
    "    def area(self):#creamos el metodo area dentro de la clase rectangulo\n",
    "        return self.base * self.altura \n",
    "    \n",
    "class Cuadrado(Rectangulo):#creamos la clase cuadrado pero esta hereda de rectangulo\n",
    "    \n",
    "    def __init__(self, lado):#iniciamos la variable que debe recibir la clase cuadrado\n",
    "        super().__init__(lado, lado)#llamamos a la super clase(rectangulo) y decimos que su base y altura es igual al lado"
   ]
  },
  {
   "cell_type": "code",
   "execution_count": 3,
   "id": "completed-leave",
   "metadata": {},
   "outputs": [
    {
     "name": "stdout",
     "output_type": "stream",
     "text": [
      "12\n",
      "25\n"
     ]
    }
   ],
   "source": [
    "#generando punto de entrada\n",
    "\n",
    "if __name__ == '__main__':\n",
    "    rectangulo = Rectangulo(base=3,altura=4)\n",
    "    print(rectangulo.area())\n",
    "    \n",
    "    cuadrado= Cuadrado(lado=5)\n",
    "    print(cuadrado.area())#aqui nos damos cuenta que la herencia se efectuo pq en cuadrado no definimos ningun metodo."
   ]
  },
  {
   "cell_type": "code",
   "execution_count": null,
   "id": "ignored-winner",
   "metadata": {},
   "outputs": [],
   "source": []
  }
 ],
 "metadata": {
  "kernelspec": {
   "display_name": "Python 3",
   "language": "python",
   "name": "python3"
  },
  "language_info": {
   "codemirror_mode": {
    "name": "ipython",
    "version": 3
   },
   "file_extension": ".py",
   "mimetype": "text/x-python",
   "name": "python",
   "nbconvert_exporter": "python",
   "pygments_lexer": "ipython3",
   "version": "3.8.5"
  }
 },
 "nbformat": 4,
 "nbformat_minor": 5
}
