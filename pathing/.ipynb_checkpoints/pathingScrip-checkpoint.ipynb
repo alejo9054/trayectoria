{
 "cells": [
  {
   "cell_type": "code",
   "execution_count": 1,
   "id": "entire-dancing",
   "metadata": {},
   "outputs": [],
   "source": [
    "class pathingFunction:\n",
    "    def __init__(self, inicio, fin, obstaculos):\n",
    "        self.inicio = inicio\n",
    "        self.fin = fin\n",
    "        self.obstaculos = obstaculos\n",
    "        \n",
    "    \n",
    "        \n",
    "    def pathing(self):\n",
    "        print('via points')\n",
    "        \n",
    "    \n",
    "    "
   ]
  },
  {
   "cell_type": "code",
   "execution_count": 2,
   "id": "behind-housing",
   "metadata": {},
   "outputs": [
    {
     "name": "stdout",
     "output_type": "stream",
     "text": [
      "[137 140]\n",
      "[485 256]\n",
      "[[366 240  84]\n",
      " [293 113  20]\n",
      " [213 166  20]\n",
      " [193 312  20]\n",
      " [236 372  20]\n",
      " [551 256  21]]\n"
     ]
    }
   ],
   "source": [
    "%matplotlib inline\n",
    "\n",
    "import numpy as np\n",
    "# import imageio\n",
    "import matplotlib.pyplot as plt\n",
    "# import pandas as pd\n",
    "#import sklearn.datasets\n",
    "import cv2 as cv\n",
    "# import glob\n",
    "\n",
    "# import os\n",
    "\n",
    "# Cargar arreglo NumPy desde un archivo\n",
    "from numpy import loadtxt\n",
    "# Cargar Arreglo\n",
    "punto_inicio = loadtxt('punto_inicio.csv', delimiter=',',dtype=np.int)\n",
    "# Imprimir el arreglo\n",
    "print(punto_inicio)\n",
    "punto_final = loadtxt('punto_final.csv', delimiter=',',dtype=np.int)\n",
    "# Imprimir el arreglo\n",
    "print(punto_final)\n",
    "obstaculos = loadtxt('obstaculos.csv', delimiter=',',dtype=np.int)\n",
    "# Imprimir el arreglo\n",
    "print(obstaculos)"
   ]
  },
  {
   "cell_type": "code",
   "execution_count": 3,
   "id": "affecting-differential",
   "metadata": {},
   "outputs": [],
   "source": [
    "# funciones para segmentar color y buscar el centroide\n",
    "def seg_color(src,bajos, altos):\n",
    "    mask = cv.inRange(src, bajos, altos)\n",
    "    return mask\n",
    "        \n",
    "def buscar_centroide(mask):\n",
    "\n",
    "    moments = cv.moments(mask)\n",
    "    area=moments['m00']\n",
    "    \n",
    "    x = int(moments['m10']/moments['m00'])\n",
    "    y = int(moments['m01']/moments['m00'])\n",
    "    \n",
    "    # put text and highlight the center\n",
    "\n",
    "    #cv.circle(mask, (x, y), 5, (0, 0, 0), -1)\n",
    "\n",
    "    #cv.putText(mask, \"centroid\", (x - 25, y - 25),cv.FONT_HERSHEY_SIMPLEX, 0.5, (0, 0, 0), 2)\n",
    "    cv.rectangle(mask,(x,y),(x+2, y+2),(0,0,0),2)#poner un punto en el centroide\n",
    "    \n",
    "    \n",
    "    return mask,x,y\n",
    "\n",
    "def radio_obstaculo(src,factor=1):\n",
    "    #gray = cv.cvtColor(EspacioMin, cv.COLOR_BGR2GRAY)\n",
    "    gray = cv.GaussianBlur(src, (7, 7), 3)\n",
    "\n",
    "    t, dst = cv.threshold(gray, 0, 255, cv.THRESH_BINARY | cv.THRESH_TRIANGLE)\n",
    "\n",
    "    contours,_  = cv.findContours(dst, cv.RETR_TREE, cv.CHAIN_APPROX_SIMPLE)\n",
    "\n",
    "    for c in contours:\n",
    "        area = cv.contourArea(c)\n",
    "        if area > 200 and area < 1000000:\n",
    "            (x, y, w, h) = cv.boundingRect(c)\n",
    "                                \n",
    "            x=round(x - ((w*factor)/2) + (w/2))\n",
    "            y=round(y - ((h*factor)/2) + (h/2))\n",
    "            w = w*factor\n",
    "            h = h*factor\n",
    "            \n",
    "            cv.rectangle(src, (x, y), (x + w, y + h), (255), 1, cv.LINE_AA)\n",
    "            \n",
    "    plt.figure(figsize=(12,12))\n",
    "    plt.imshow(src, cmap='viridis')\n",
    "    # cv.imshow('contornos', EspacioMin)\n",
    "    # cv.imshow('umbral', dst)\n",
    "    if (w) >= (h):\n",
    "        radio = abs(w/2)*factor\n",
    "        return round(radio)\n",
    "    else:\n",
    "        radio = abs(h/2)*factor\n",
    "        return round(radio)\n",
    "        \n",
    "    \n",
    "    # cv.waitKey(0)\n",
    "    \n",
    "def dibujarObs(mask,x,y,radio):\n",
    "    #mask=np.zeros((mask.shape[0],mask.shape[1]),dtype=np.uint8)\n",
    "    #Dibujando un círculos\n",
    "    cv.circle(mask,(x,y),radio,(150),-1)\n",
    "    return mask\n",
    "#     plt.figure(figsize=(12,12))\n",
    "#     plt.imshow(mask, cmap='viridis')"
   ]
  },
  {
   "cell_type": "code",
   "execution_count": 4,
   "id": "smoking-mayor",
   "metadata": {},
   "outputs": [],
   "source": [
    "mask = np.zeros((480,640),dtype=np.uint8)"
   ]
  },
  {
   "cell_type": "code",
   "execution_count": 5,
   "id": "treated-boxing",
   "metadata": {},
   "outputs": [
    {
     "name": "stdout",
     "output_type": "stream",
     "text": [
      "[366 240  84]\n",
      "[293 113  20]\n",
      "[213 166  20]\n",
      "[193 312  20]\n",
      "[236 372  20]\n",
      "[551 256  21]\n"
     ]
    },
    {
     "data": {
      "text/plain": [
       "<matplotlib.image.AxesImage at 0x2356124cd90>"
      ]
     },
     "execution_count": 5,
     "metadata": {},
     "output_type": "execute_result"
    },
    {
     "data": {
      "image/png": "[encoded data removed]",
      "text/plain": [
       "<Figure size 864x864 with 1 Axes>"
      ]
     },
     "metadata": {
      "needs_background": "light"
     },
     "output_type": "display_data"
    }
   ],
   "source": [
    "#hacer una funcion o algoritmo que dibuje punto inicial final y obstaculos\n",
    "##inicial\n",
    "#mask = dibujarObs(mask,int(punto_inicio[0]),int(punto_inicio[1]),radio=1)\n",
    "# plt.figure(figsize=(12,12))\n",
    "# plt.imshow(mask, cmap='viridis')\n",
    "\n",
    "##final\n",
    "#mask = dibujarObs(mask,int(punto_final[0]),int(punto_final[1]),radio=1)\n",
    "# plt.figure(figsize=(12,12))\n",
    "# plt.imshow(mask, cmap='viridis')\n",
    "##obstaculos\n",
    "for i in obstaculos:\n",
    "    mask = dibujarObs(mask,i[0],i[1],i[2])\n",
    "    print(i)\n",
    "    \n",
    "plt.figure(figsize=(12,12))\n",
    "plt.imshow(mask, cmap='viridis')"
   ]
  },
  {
   "cell_type": "code",
   "execution_count": 82,
   "id": "metric-hampshire",
   "metadata": {},
   "outputs": [
    {
     "data": {
      "text/plain": [
       "<matplotlib.image.AxesImage at 0x23564fce7c0>"
      ]
     },
     "execution_count": 82,
     "metadata": {},
     "output_type": "execute_result"
    },
    {
     "data": {
      "image/png": "[encoded data removed]",
      "text/plain": [
       "<Figure size 864x864 with 1 Axes>"
      ]
     },
     "metadata": {
      "needs_background": "light"
     },
     "output_type": "display_data"
    }
   ],
   "source": [
    "#dibujando una linea de inicio a fin\n",
    "\n",
    "mask1 = np.zeros((480,640),dtype=np.uint8)\n",
    "\n",
    "cv.line(mask1,(punto_inicio[0],punto_inicio[1]),(punto_final[0],punto_final[1]),(255),2)\n",
    "\n",
    "plt.figure(figsize=(12,12))\n",
    "plt.imshow(mask1, cmap='viridis')"
   ]
  },
  {
   "cell_type": "code",
   "execution_count": 83,
   "id": "experimental-mapping",
   "metadata": {},
   "outputs": [
    {
     "name": "stdout",
     "output_type": "stream",
     "text": [
      "[  0 105 255]\n"
     ]
    },
    {
     "data": {
      "image/png": "[encoded data removed]",
      "text/plain": [
       "<Figure size 864x864 with 1 Axes>"
      ]
     },
     "metadata": {
      "needs_background": "light"
     },
     "output_type": "display_data"
    }
   ],
   "source": [
    "#comparando las 2 imagenes\n",
    "\n",
    "diferencias=cv.subtract(mask1,mask)\n",
    "plt.figure(figsize=(12,12))\n",
    "plt.imshow(diferencias, cmap='viridis')\n",
    "print(np.unique(diferencias))"
   ]
  },
  {
   "cell_type": "code",
   "execution_count": 110,
   "id": "italian-tolerance",
   "metadata": {},
   "outputs": [
    {
     "name": "stdout",
     "output_type": "stream",
     "text": [
      "(array([5], dtype=int64),)\n",
      "[194]\n",
      "[160]\n",
      "[[213 166  20]]\n",
      "[189.69449122 109.59014554  19.92485885 152.00328944 216.12033685\n",
      " 369.68229603]\n",
      "(array([2], dtype=int64),)\n"
     ]
    },
    {
     "data": {
      "image/png": "[encoded data removed]",
      "text/plain": [
       "<Figure size 864x864 with 1 Axes>"
      ]
     },
     "metadata": {
      "needs_background": "light"
     },
     "output_type": "display_data"
    },
    {
     "data": {
      "image/png": "[encoded data removed]",
      "text/plain": [
       "<Figure size 864x864 with 1 Axes>"
      ]
     },
     "metadata": {
      "needs_background": "light"
     },
     "output_type": "display_data"
    }
   ],
   "source": [
    "#el obstaculo mas cercano a inicio es?\n",
    "\n",
    "#dibujando las intersecciones\n",
    "inters = np.array([105], dtype=np.uint8)\n",
    "maskInicio = seg_color(diferencias, inters, inters)\n",
    "#print(maskInicio.shape)\n",
    "plt.figure(figsize=(12,12))\n",
    "plt.imshow(maskInicio, cmap='viridis')\n",
    "\n",
    "##donde estan las intersecciones?\n",
    "puntos_y, puntos_x=np.where(maskInicio)\n",
    "##cual es el punto de interseccion mas cercano al inicio?\n",
    "distancia = np.sqrt((puntos_x-punto_inicio[0])**2 + (puntos_y-punto_inicio[1])**2)\n",
    "pos=np.where(distancia == min(distancia))\n",
    "print(pos)\n",
    "print(puntos_x[pos])\n",
    "print(puntos_y[pos])\n",
    "##dibujando el punto mas cercano\n",
    "maskInicio=dibujarObs(maskInicio,int(puntos_x[pos]),int(puntos_y[pos]),5)\n",
    "plt.figure(figsize=(12,12))\n",
    "plt.imshow(maskInicio, cmap='viridis')\n",
    "\n",
    "##cual es el obstaculo al que le pertenece ese punto?\n",
    "distanciaObs = np.sqrt((obstaculos[:,0]-puntos_x[pos])**2+(obstaculos[:,1]-puntos_y[pos])**2)\n",
    "posObs=np.where(distanciaObs == min(distanciaObs))\n",
    "print(obstaculos[posObs])\n",
    "print(distanciaObs)\n",
    "print(posObs)"
   ]
  },
  {
   "cell_type": "code",
   "execution_count": 85,
   "id": "muslim-giving",
   "metadata": {},
   "outputs": [
    {
     "name": "stdout",
     "output_type": "stream",
     "text": [
      "60.40695324215582\n",
      "[ 60.7289058   61.03277808  61.98386887  62.93647591  63.89053138\n",
      "  60.40695324  61.3514466   62.29767251  63.2455532   64.19501538\n",
      "  65.1459899   66.09841148  67.05221846  62.62587325  63.5688603\n",
      "  64.51356447  65.4599114   66.40783086  67.35725648  68.30812543\n",
      "  69.26037828  70.21395873  65.78753681  66.73080248  67.67569726\n",
      "  68.62215386  69.57010852  70.51950085  71.47027354  72.42237223\n",
      "  73.37574531  68.9492567   69.89277502  70.83784299  71.78439942\n",
      "  72.73238618  73.68174808  74.63243263  75.58438992  76.53757247\n",
      "  72.11102551  73.05477397  74.          74.94664769  75.89466384\n",
      "  76.84399781  77.79460136  78.74642849  79.69943538  75.27283707\n",
      "  76.21679605  77.1621669   78.10889834  79.0569415   80.00624976\n",
      "  80.95677859  81.90848552  82.86132994  78.4346862   79.37883849\n",
      "  80.32434251  81.27115109  82.21921916  83.16850365  84.11896338\n",
      "  85.07055895  86.02325267  81.59656856  82.54089895  83.48652586\n",
      "  84.43340571  85.38149682  86.33075929  87.2811549   88.23264702\n",
      "  89.18520057  84.7584804   85.70297544  86.64871609  87.59566199\n",
      "  88.54377448  89.49301649  90.44335244  91.39474821  92.34717104\n",
      "  87.92041856  88.86506625  89.81091248  90.75791976  91.70605214\n",
      "  92.65527508  93.60555539  94.5568612   95.50916186  91.08238029\n",
      "  92.0271699   92.97311439  93.92017888  94.86832981  95.81753493\n",
      "  96.76776323  97.71898485  98.67117107  94.24436323  95.18928511\n",
      "  96.13532129  97.08243919  98.03060747  98.97979592  99.92997548\n",
      "  97.4063653   98.35141077  99.2975327  100.24470061 168.54969594\n",
      " 169.49926254 170.44940598 171.40011669 167.91962363 168.86681142\n",
      " 169.81460479 170.76299365 171.71196813 172.66151858 173.61163555\n",
      " 174.56230979 170.13524032 171.08185176 172.02906731 172.97687707\n",
      " 173.92527131 174.87424053 175.82377541 176.77386685 177.72450591\n",
      " 173.29743218 174.24408168 175.19132399 176.13914954 177.08754897\n",
      " 178.03651311 178.98603297 179.93609977 180.88670487 176.45962711\n",
      " 177.4063133  178.35358141 179.30142219 180.24982663 181.19878587\n",
      " 182.14829124 183.09833424 184.04890654 179.62182495 180.56854654\n",
      " 181.51583953 182.46369502 183.41210429 184.36105879 185.31055016\n",
      " 186.26057017 187.21111078 182.78402556 183.73078131 184.67809832\n",
      " 185.62596801 186.57438195 187.52333188 188.47280971 189.4228075\n",
      " 190.37331746 185.94622879 186.89301753 187.84035775 188.78824116\n",
      " 189.73665961 190.68560512 191.63506986 192.58504615 193.53552645\n",
      " 189.1084345  190.05525512 191.00261778 191.95051446 192.89893727\n",
      " 193.8478785  194.79733058 195.74728606 196.69773766 192.27064258\n",
      " 193.21749403 194.16487839 195.11278789 196.06121493 197.01015202\n",
      " 197.95959184 198.90952717 199.85995097 195.43285292 196.37973419\n",
      " 197.32713954 198.27506147 199.22349259 200.17242567 201.12185361\n",
      " 202.07176943 203.02216628 198.5950654  199.54197553 200.48940122\n",
      " 201.43733517 202.38577025 203.33469945 204.28411588 205.23401278\n",
      " 206.1843835  201.75727992 202.70421801 203.65166339 204.59960899\n",
      " 205.54804791 206.49697334 207.44637861 208.39625716 209.34660255\n",
      " 204.91949639 205.86646157 206.81392603 207.76188293 208.71032557\n",
      " 209.65924735 210.6086418  211.55850255 212.50882335 208.08171472\n",
      " 209.02870616 209.97618913 210.92415699 211.87260323 212.82152147\n",
      " 213.77090541 214.72074888 215.67104581 211.24393482 212.19095174\n",
      " 213.13845265 214.08643114 215.03488089 215.98379569 216.93316943\n",
      " 217.88299612 218.83326987 214.40615663 215.35319826 216.3007166\n",
      " 217.2487054  218.19715855 219.14607001 220.09543385 221.04524424\n",
      " 221.99549545 217.56838006 218.51544568 219.46298093 220.41097976\n",
      " 221.35943621 222.30834442 223.25769864 224.20749318 225.1577225\n",
      " 220.73060504 221.67769396 222.62524565 223.57325421 224.52171387\n",
      " 225.47061893 226.41996378 227.36974293 228.31995095 223.89283151\n",
      " 224.83994307 225.78751073 226.73552876 227.68399153 228.63289352\n",
      " 229.58222928 230.53199344 231.48218074 227.0550594  228.00219297\n",
      " 228.94977615 229.89780338 230.84626919 231.7951682  232.7444951\n",
      " 233.69424469 234.64441182 230.21728866 231.16444363 232.11204191\n",
      " 233.06007809 234.00854685 234.95744296 235.90676124 236.85649664\n",
      " 237.80664415 233.37951924 234.32669502 235.27430799 236.22235288\n",
      " 237.17082451 238.11971779 239.06902769 240.01874927 240.96887766\n",
      " 236.54175107 237.48894711 238.43657438 239.38462774 240.33310217\n",
      " 241.2819927  242.23129443 243.18100255 244.13111231 239.70398411\n",
      " 240.65119987 241.59884106 242.54690268 243.49537983 244.44426768\n",
      " 245.39356145 246.34325645 247.29334807 242.86621832 243.81345328\n",
      " 244.76110802 245.70917769 246.65765749 247.60654272 248.55582874\n",
      " 249.50551096 250.45558488 246.02845364 246.97570731 247.92337526\n",
      " 248.87145276 249.81993515 250.76881784 251.71809629 252.66776605\n",
      " 253.61782272 249.19069003 250.13796193 251.08564276 252.0337279\n",
      " 252.98221281 253.93109302 254.88036409 255.83002169 256.78006153\n",
      " 252.35292746 253.30021713 254.24791051 255.1960031  256.14449047\n",
      " 257.09336825 258.04263214 258.99227788 259.94230129 255.51516589\n",
      " 256.46247289 257.41017851 258.35827837 259.30676813 260.25564355\n",
      " 261.20490041 262.15453458 263.10454196 258.67740528 259.62472918\n",
      " 260.57244674 261.52055369 262.46904579 263.4179189  264.36716891\n",
      " 265.31679178 266.26678351 261.83964558 262.78698598 263.7347152\n",
      " 264.68282906 265.63132345 266.58019431 267.52943763 268.47904946\n",
      " 269.4290259  265.00188679 265.94924328 266.89698387 267.84510449\n",
      " 268.79360111 269.74246977 270.69170656 271.64130761 272.59126912\n",
      " 268.16412885 269.11150105 270.05925276 271.00737997 271.95587877\n",
      " 272.90474529 273.85397569 274.80356621 275.75351312 271.32637174\n",
      " 272.27375929 273.22152185 274.16965551 275.11815643 276.06702085\n",
      " 277.01624501 277.96582524 278.91575789 274.48861543 275.43601798\n",
      " 276.38379113 277.33193109 278.28043409 279.22929646 280.17851452\n",
      " 281.12808469 282.0780034  277.65085989 278.59827709 279.54606061\n",
      " 280.49420671 281.44271175 282.39157211 283.34078422 284.29034454\n",
      " 285.24024961 280.81310511 281.76053663 282.70833026 283.65648239\n",
      " 284.60498942 285.55384781 286.50305408 287.45260479 288.40249652\n",
      " 283.97535104 284.92279656 285.8706001  286.8187581  287.76726708\n",
      " 288.71612355 289.66532412 290.61486541 291.5647441  287.13759768\n",
      " 288.08505688 289.0328701  289.98103386 290.92954474 291.87839934\n",
      " 292.82759433 293.77712641 294.72699232 290.29984499 291.24731758\n",
      " 292.19514027 293.14330966 294.0918224  295.04067516 295.98986469\n",
      " 296.93938775 297.88924116 293.46209295 294.40957865 295.35741061\n",
      " 296.3055855  297.25410006 298.20295102 299.15213521 300.10164945\n",
      " 301.05149061 296.62434155 297.57184007 298.51968109 299.46786138\n",
      " 300.41637772 301.36522693 302.31440588 303.26391147 304.21374065\n",
      " 299.78659076 300.73410182 301.68195173 302.6301373  303.57865538\n",
      " 304.52750286 305.47667669 306.42617382 307.37599126 302.94884057\n",
      " 303.89636391 304.84422251 305.79241325 306.74093304 307.68977884\n",
      " 308.63894764 309.58843648 310.53824241 306.11109095 307.05862632\n",
      " 308.00649344 308.95468923 309.9032107  310.85205484 311.80121873\n",
      " 312.75069944 313.7004941  309.27334188 310.22088905 311.1687645\n",
      " 312.11696526 313.06548836 314.01433088 314.96348995 315.9129627\n",
      " 316.86274631 312.43559336 313.38315207 314.33103569 315.27924131\n",
      " 316.22776602 317.17660696 318.1257613  319.07522624 320.02499902\n",
      " 315.59784537 316.54541538 317.49330702 318.44151739 319.39004368\n",
      " 320.33888306 321.28803277 322.23749006 323.18725222 318.76009788\n",
      " 319.70767898 320.65557846 321.60379351 322.55232134 323.50115919\n",
      " 324.45030436 325.39975415 326.3495059  321.92235089 322.86994286\n",
      " 323.81785003 324.76606966 325.714599   326.66343536 327.61257607\n",
      " 328.5620185  325.08460437 326.032207   326.98012172 327.92834583\n",
      " 328.87687666 328.24685832 329.1944714 ]\n"
     ]
    }
   ],
   "source": [
    "print(min(distancia))\n",
    "print(distancia)"
   ]
  },
  {
   "cell_type": "code",
   "execution_count": null,
   "id": "advanced-brazil",
   "metadata": {},
   "outputs": [],
   "source": [
    "maskWhere = np.zeros((10,20),dtype=np.uint8)\n",
    "maskWhere[2,5]=1\n",
    "maskWhere[3,6]=1\n",
    "maskWhere[4,7]=1\n",
    "maskWhere[8,11]=1\n",
    "maskWhere[9,12]=1\n",
    "print(maskWhere)\n",
    "pos_y, pos_x=np.where(maskWhere)\n",
    "print(pos)\n",
    "distWhere = np.sqrt((pos_x-1)**2 + (pos_y-1)**2)\n",
    "print(distWhere)\n",
    "posWhere=np.where(distWhere == min(distWhere))\n",
    "print(posWhere)\n",
    "maskWhere1=cv.circle(maskWhere,(int(pos_x[posWhere]),int(pos_y[posWhere])),1,(1),-1)\n",
    "print(pos_x[posWhere])\n",
    "print(pos_y[posWhere])\n",
    "print(maskWhere)\n",
    "plt.figure(figsize=(12,12))\n",
    "plt.imshow(maskWhere1, cmap='viridis')"
   ]
  },
  {
   "cell_type": "code",
   "execution_count": 105,
   "id": "acceptable-bunny",
   "metadata": {},
   "outputs": [
    {
     "name": "stdout",
     "output_type": "stream",
     "text": [
      "[160]\n",
      "[240 113 166 312 372 256]\n"
     ]
    }
   ],
   "source": [
    "#nuevos puntos de inicio(perpendicular y punto mas cercano al final)\n",
    "#linea perpendicular a un punto y una recta\n",
    "#sqrt al punto final\n",
    "#retirar obstaculo\n",
    "#guardar trayectoria(via points)\n",
    "#nuevo punto inicial"
   ]
  },
  {
   "cell_type": "code",
   "execution_count": 104,
   "id": "behavioral-bullet",
   "metadata": {},
   "outputs": [
    {
     "name": "stdout",
     "output_type": "stream",
     "text": [
      "[189.69449122 109.59014554  19.92485885 152.00328944 216.12033685\n",
      " 369.68229603]\n"
     ]
    }
   ],
   "source": []
  },
  {
   "cell_type": "code",
   "execution_count": null,
   "id": "handmade-planet",
   "metadata": {},
   "outputs": [],
   "source": []
  }
 ],
 "metadata": {
  "kernelspec": {
   "display_name": "Python 3",
   "language": "python",
   "name": "python3"
  },
  "language_info": {
   "codemirror_mode": {
    "name": "ipython",
    "version": 3
   },
   "file_extension": ".py",
   "mimetype": "text/x-python",
   "name": "python",
   "nbconvert_exporter": "python",
   "pygments_lexer": "ipython3",
   "version": "3.8.5"
  }
 },
 "nbformat": 4,
 "nbformat_minor": 5
}
