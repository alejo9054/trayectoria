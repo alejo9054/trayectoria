{
 "cells": [
  {
   "cell_type": "code",
   "execution_count": 287,
   "id": "conventional-class",
   "metadata": {},
   "outputs": [
    {
     "name": "stdout",
     "output_type": "stream",
     "text": [
      "[137 140]\n",
      "[485 256]\n",
      "[[366 240  84]\n",
      " [293 113  20]\n",
      " [213 166  20]\n",
      " [193 312  20]\n",
      " [236 372  20]\n",
      " [551 256  21]]\n"
     ]
    }
   ],
   "source": [
    "%matplotlib inline\n",
    "\n",
    "import numpy as np\n",
    "# import imageio\n",
    "import matplotlib.pyplot as plt\n",
    "# import pandas as pd\n",
    "#import sklearn.datasets\n",
    "import cv2 as cv\n",
    "# import glob\n",
    "\n",
    "# import os\n",
    "\n",
    "# Cargar arreglo NumPy desde un archivo\n",
    "from numpy import loadtxt\n",
    "# Cargar Arreglo\n",
    "punto_inicio = loadtxt('punto_inicio.csv', delimiter=',',dtype=np.int)\n",
    "# Imprimir el arreglo\n",
    "print(punto_inicio)\n",
    "punto_final = loadtxt('punto_final.csv', delimiter=',',dtype=np.int)\n",
    "# Imprimir el arreglo\n",
    "print(punto_final)\n",
    "obstaculos = loadtxt('obstaculos.csv', delimiter=',',dtype=np.int)\n",
    "# Imprimir el arreglo\n",
    "print(obstaculos)"
   ]
  },
  {
   "cell_type": "code",
   "execution_count": 297,
   "id": "institutional-dressing",
   "metadata": {},
   "outputs": [],
   "source": [
    "class pathing:\n",
    "    def __init__(self, inicio, fin, obstaculos):\n",
    "        self.inicio = inicio\n",
    "        self.fin = fin\n",
    "        self.obstaculos = obstaculos*[1,1,1.4]\n",
    "        self.path=np.array([inicio])\n",
    "        self.i=True\n",
    "    #metodos\n",
    "        \n",
    "    def generate(self):\n",
    "        \n",
    "        while self.i == True:\n",
    "            \n",
    "#             print(self.inicio[0]==punto_final[0],self.inicio[1]==punto_final[1])\n",
    "#             print(self.fin)\n",
    "#             print(self.path,self.i)\n",
    "            maskObs=self.maskObstaculos(self.obstaculos)\n",
    "#             print(self.obstaculos*[1,1,1])\n",
    "#             print(self.obstaculos*[1,1,1.5])\n",
    "#             plt.figure(figsize=(12,12))\n",
    "#             plt.imshow(maskObs, cmap='viridis')\n",
    "        \n",
    "            maskInicioFin= self.maskLineaInicioFin(self.inicio , self.fin)\n",
    "        \n",
    "            inter=self.maskIntersecciones(maskInicioFin,maskObs)\n",
    "                   \n",
    "            primer_obstaculo , numero_del_obstaculo=self.maskObstaculoMasCercano(inter,self.inicio,self.obstaculos)\n",
    "                     \n",
    "            linea_I_O = self.maskLineaInicioObstaculo(self.inicio,self.obstaculos,numero_del_obstaculo)\n",
    "                   \n",
    "            perpendicular=self.maskPerpendicular(self.inicio,self.obstaculos,numero_del_obstaculo)\n",
    "                      \n",
    "            inter_primer_obs=self.maskIntersecciones(perpendicular,primer_obstaculo)\n",
    "            #plt.figure(figsize=(12,12))\n",
    "            #plt.imshow(inter_primer_obs, cmap='viridis')\n",
    "        \n",
    "            maskPuntos,puntos_x,puntos_y=self.puntosExtremos(inter_primer_obs,self.obstaculos,numero_del_obstaculo)\n",
    "        \n",
    "            punto=self.puntoCercanoFinal(self.fin,puntos_x,puntos_y) \n",
    "        \n",
    "            self.iterarPuntos(punto,self.fin,self.obstaculos,numero_del_obstaculo)\n",
    "        \n",
    "        \n",
    "        \n",
    "        print(self.path)\n",
    "        return self.path\n",
    "#         print(self.inicio,self.fin)\n",
    "#         print(self.obstaculos)\n",
    "#         #mask2=linea_I_O+perpendicular\n",
    "#         plt.figure(figsize=(12,12))\n",
    "#         plt.imshow(maskPuntos, cmap='viridis')\n",
    "# #         plt.figure(figsize=(12,12))\n",
    "# #         plt.imshow(mask2, cmap='viridis')\n",
    "#         print('via points')\n",
    "#         print(punto==self.fin)\n",
    "        \n",
    "    def seg_color(self,src,bajos, altos):\n",
    "        mask = cv.inRange(src, bajos, altos)\n",
    "        return mask\n",
    "\n",
    "    def dibujarObs(self,mask,x,y,radio):\n",
    "        radio=round(radio)\n",
    "        x=int(x)\n",
    "        y=int(y)\n",
    "        #mask=np.zeros((mask.shape[0],mask.shape[1]),dtype=np.uint8)\n",
    "        #Dibujando un círculos\n",
    "        cv.circle(mask,(x,y),radio,(150),-1)\n",
    "        return mask\n",
    "        #plt.figure(figsize=(12,12))\n",
    "        #plt.imshow(mask, cmap='viridis')\n",
    "    def maskObstaculos(self, obstaculos):\n",
    "        mask = np.zeros((480,640),dtype=np.uint8)\n",
    "        for i in obstaculos:\n",
    "            mask = self.dibujarObs(mask,i[0],i[1],i[2])\n",
    "            \n",
    "        return mask\n",
    "    \n",
    "    def maskLineaInicioFin(self, punto_inicio, punto_final):\n",
    "        mask = np.zeros((480,640),dtype=np.uint8)\n",
    "        cv.line(mask,(punto_inicio[0],punto_inicio[1]),(punto_final[0],punto_final[1]),(255),2)\n",
    "        return mask\n",
    "    \n",
    "    def maskIntersecciones(self, mask1, mask):\n",
    "        if mask1.size == 0:\n",
    "            return np.array([])\n",
    "        diferencias=cv.subtract(mask1,mask)\n",
    "        inters = np.array([105], dtype=np.uint8)\n",
    "        mask = self.seg_color(diferencias, inters, inters)\n",
    "        return mask\n",
    "    \n",
    "    def maskObstaculoMasCercano(self, intersecciones, punto_inicio,obstaculos):\n",
    "        \n",
    "        ##puntos de las intesecciones\n",
    "        puntos_y, puntos_x=np.where(intersecciones)\n",
    "        ##punto de interseccion mas cercano al inicio\n",
    "        distancia = np.sqrt((puntos_x-punto_inicio[0])**2 + (puntos_y-punto_inicio[1])**2)#distancia euclidiana\n",
    "        if not distancia.any():\n",
    "            #print(\"List is empty aja\")\n",
    "            #print(puntos_y,puntos_x)\n",
    "            self.i=False\n",
    "            return np.array([]),np.array([])\n",
    "        pos=np.where(distancia == min(distancia))\n",
    "        \n",
    "        #print(pos)\n",
    "        ##punto mas cercano\n",
    "        #maskInicio=dibujarObs(maskInicio,int(puntos_x[pos]),int(puntos_y[pos]),5)\n",
    "        \n",
    "        ##obstaculo al que le pertenece ese punto\n",
    "        distanciaObs = np.sqrt((obstaculos[:,0]-puntos_x[pos])**2+(obstaculos[:,1]-puntos_y[pos])**2)\n",
    "        posObs=np.where(distanciaObs == min(distanciaObs))#cual es el obstaculo\n",
    "        \n",
    "        #mascara del obstaculo correspondiente\n",
    "        mask = np.zeros((480,640),dtype=np.uint8)\n",
    "        obstaculo = obstaculos[posObs].flatten()\n",
    "        mask= self.dibujarObs(mask,obstaculo[0],obstaculo[1],obstaculo[2])\n",
    "                \n",
    "        return mask, posObs[0]\n",
    "    \n",
    "    def maskLineaInicioObstaculo(self,punto_inicio,obstaculos,posObs):\n",
    "        \n",
    "        if posObs.size == 0:\n",
    "            return np.array([])\n",
    "        mask = np.zeros((480,640),dtype=np.uint8)\n",
    "        cv.line(mask,(punto_inicio[0],punto_inicio[1]),(int(obstaculos[posObs,0]),int(obstaculos[posObs,1])),(255),2)\n",
    "        return mask\n",
    "    \n",
    "    def vector_p(self,punto_inicial_x,punto_inicial_y,punto_final_x,punto_final_y):\n",
    "        #establecer vector con los puntos\n",
    "        vector_x=punto_inicial_x-punto_final_x\n",
    "        vector_y=punto_inicial_y-punto_final_y\n",
    "        vector=np.array([vector_x,vector_y])\n",
    "        return vector\n",
    "    \n",
    "    def perpendicular_90(self,vector,escala=1):\n",
    "        theta= np.deg2rad(90)\n",
    "        matriz=np.array([[np.cos(theta),-np.sin(theta)],[np.sin(theta),np.cos(theta)]])*escala\n",
    "        perpendicular=matriz.dot(vector)\n",
    "        #perpendicular.dtype=int\n",
    "        return perpendicular.astype(int)\n",
    "    \n",
    "    def perpendicular_270(self,vector,escala=1):\n",
    "        theta= np.deg2rad(-90)\n",
    "        matriz=np.array([[np.cos(theta),-np.sin(theta)],[np.sin(theta),np.cos(theta)]])*escala\n",
    "        perpendicular=matriz.dot(vector)\n",
    "        #perpendicular.dtype=int\n",
    "        return perpendicular.astype(int)\n",
    "    \n",
    "    def dibujar_perpendiculares(self,centroide_obstaculo,perpendicular_90,perpendicular_270,tamaño_imagen=(480,640)):\n",
    "        centroide_obstaculo=centroide_obstaculo.astype(int)\n",
    "        print(centroide_obstaculo)\n",
    "        \n",
    "        \n",
    "        mask = np.zeros(tamaño_imagen,dtype=np.uint8)\n",
    "        cv.line(mask,(centroide_obstaculo[0],centroide_obstaculo[1]),(centroide_obstaculo[0]+perpendicular_90[0],centroide_obstaculo[1]+perpendicular_90[1]),(255),2)\n",
    "        cv.line(mask,(centroide_obstaculo[0],centroide_obstaculo[1]),(centroide_obstaculo[0]+perpendicular_270[0],centroide_obstaculo[1]+perpendicular_270[1]),(255),2)\n",
    "        return mask\n",
    "    \n",
    "    def maskPerpendicular(self,inicio,obstaculos,numero_del_obstaculo):\n",
    "        if numero_del_obstaculo.size == 0:\n",
    "            return np.array([])\n",
    "        punto_inicial_x=inicio[0]\n",
    "        punto_inicial_y=inicio[1]\n",
    "        punto_final_x=int(obstaculos[numero_del_obstaculo,0])\n",
    "        punto_final_y=int(obstaculos[numero_del_obstaculo,1])\n",
    "        \n",
    "        vector = self.vector_p(punto_inicial_x,punto_inicial_y,punto_final_x,punto_final_y)\n",
    "        \n",
    "        perp=self.perpendicular_90(vector,10)\n",
    "        perp2=self.perpendicular_270(vector,10)\n",
    "        centroide_obstaculo=obstaculos[numero_del_obstaculo,:2].flatten()\n",
    "        \n",
    "        mask=self.dibujar_perpendiculares(centroide_obstaculo,perp,perp2)\n",
    "#         plt.figure(figsize=(12,12))\n",
    "#         plt.imshow(mask, cmap='viridis')\n",
    "                 \n",
    "        return mask\n",
    "    \n",
    "    def puntosExtremos(self,maskInterseccion,obstaculos,numero_del_obstaculo):\n",
    "        obstaculos=np.around(obstaculos)\n",
    "        obstaculos=obstaculos.astype('int')\n",
    "        if maskInterseccion.size == 0:\n",
    "            return np.array([]),np.array([]),np.array([])\n",
    "        puntos_y, puntos_x=np.where(maskInterseccion)\n",
    "        \n",
    "        distancia = np.sqrt((puntos_x-int(obstaculos[numero_del_obstaculo,0]))**2 + (puntos_y-int(obstaculos[numero_del_obstaculo,1]))**2)\n",
    "        \n",
    "        \n",
    "        #posF=np.where(distancia == max(distancia))\n",
    "        if sorted(distancia)[-1] ==sorted(distancia)[-2]:\n",
    "            posF=np.where(distancia == max(distancia))\n",
    "            posF= np.array(posF[0])\n",
    "            \n",
    "        else:\n",
    "            posF1=np.where(distancia == sorted(distancia)[-2])\n",
    "            pos=np.where(distancia == sorted(distancia)[-3])\n",
    "            posF = np.append(posF1,pos)\n",
    "        \n",
    "        #posF[1]=sorted(distancia)[-2]\n",
    "        print(sorted(distancia)[-2])\n",
    "        #posF= np.array(posF[0])\n",
    "        #print(posF[0])\n",
    "        #print(puntosF_x[posF])\n",
    "        #print(puntosF_y[posF])\n",
    "        ##dibujando el puntos lejanos al centroide\n",
    "        print(posF)\n",
    "        #print(puntos_x[posF[1]])\n",
    "        maskInterseccion=self.dibujarObs(maskInterseccion,int(puntos_x[posF[0]]),int(puntos_y[posF[0]]),5)\n",
    "        \n",
    "        maskInterseccion=self.dibujarObs(maskInterseccion,int(puntos_x[posF[1]]),int(puntos_y[posF[1]]),5)\n",
    "        plt.figure(figsize=(12,12))\n",
    "        plt.imshow(maskInterseccion, cmap='viridis')\n",
    "        \n",
    "        puntos_x=puntos_x[posF[:2]]\n",
    "        puntos_y=puntos_y[posF[:2]]\n",
    "        \n",
    "        return maskInterseccion,puntos_x,puntos_y\n",
    "    def puntoCercanoFinal(self,punto_final,puntos_x,puntos_y):\n",
    "        #punto mas cercano a punto final\n",
    "        if not puntos_x.any() or not puntos_y.any():\n",
    "            return np.array([False])\n",
    "       \n",
    "        distancia = np.sqrt((puntos_x-punto_final[0])**2+(puntos_y-punto_final[1])**2)\n",
    "        numero_punto=np.where(distancia == min(distancia))\n",
    "        punto_cercano_F=np.array([puntos_x[numero_punto[0]],puntos_y[numero_punto[0]]])\n",
    "        \n",
    "        return punto_cercano_F.flatten()\n",
    "    \n",
    "    def iterarPuntos(self,punto_cercano_F,punto_final,obstaculos,numero_del_obstaculo):\n",
    "        \n",
    "        if not punto_cercano_F.any():\n",
    "            #self.path=np.append(self.path,[self.inicio],axis=0) \n",
    "            self.path=np.append(self.path,[punto_final],axis=0) \n",
    "            self.i=False\n",
    "        else:\n",
    "        \n",
    "            self.inicio=punto_cercano_F\n",
    "            self.obstaculos=np.delete(obstaculos, numero_del_obstaculo, axis=0)\n",
    "            #print([punto_cercano_F])\n",
    "            self.path=np.append(self.path,[punto_cercano_F],axis=0)\n",
    "            #path=pathing(self.inicio , self.fin , self.obstaculos)\n",
    "            #path.generate()\n",
    "            if self.inicio[0]==punto_final[0] and self.inicio[1]==punto_final[1]:\n",
    "                self.i=False\n",
    "            \n",
    "        \n",
    "            \n",
    "            \n",
    "        \n",
    "    \n",
    "    "
   ]
  },
  {
   "cell_type": "code",
   "execution_count": 298,
   "id": "endangered-brave",
   "metadata": {},
   "outputs": [],
   "source": [
    "# funciones para segmentar color y buscar el centroide\n",
    "\n",
    "path=0        \n",
    "path = pathing(inicio=punto_inicio , fin=punto_final , obstaculos=obstaculos)\n",
    "    \n"
   ]
  },
  {
   "cell_type": "code",
   "execution_count": 299,
   "id": "accepting-singer",
   "metadata": {
    "scrolled": false
   },
   "outputs": [
    {
     "name": "stdout",
     "output_type": "stream",
     "text": [
      "[213 166]\n",
      "27.85677655436824\n",
      "[  2 155]\n",
      "[293 113]\n",
      "27.85677655436824\n",
      "[  0 156]\n",
      "[366 240]\n",
      "117.66052864066182\n",
      "[  5 727]\n",
      "[[137 140]\n",
      " [223 140]\n",
      " [303 139]\n",
      " [466 178]\n",
      " [485 256]]\n"
     ]
    },
    {
     "data": {
      "image/png": "[encoded data removed]",
      "text/plain": [
       "<Figure size 864x864 with 1 Axes>"
      ]
     },
     "metadata": {
      "needs_background": "light"
     },
     "output_type": "display_data"
    },
    {
     "data": {
      "image/png": "[encoded data removed]",
      "text/plain": [
       "<Figure size 864x864 with 1 Axes>"
      ]
     },
     "metadata": {
      "needs_background": "light"
     },
     "output_type": "display_data"
    },
    {
     "data": {
      "image/png": "[encoded data removed]",
      "text/plain": [
       "<Figure size 864x864 with 1 Axes>"
      ]
     },
     "metadata": {
      "needs_background": "light"
     },
     "output_type": "display_data"
    }
   ],
   "source": [
    "pathing=path.generate()"
   ]
  },
  {
   "cell_type": "code",
   "execution_count": 300,
   "id": "particular-oxide",
   "metadata": {},
   "outputs": [
    {
     "name": "stdout",
     "output_type": "stream",
     "text": [
      "[[137 140]\n",
      " [223 140]\n",
      " [303 139]\n",
      " [466 178]\n",
      " [485 256]]\n"
     ]
    }
   ],
   "source": [
    "print(pathing)"
   ]
  },
  {
   "cell_type": "code",
   "execution_count": 301,
   "id": "elementary-athletics",
   "metadata": {},
   "outputs": [],
   "source": [
    "def dibujarObs(mask,x,y,radio):\n",
    "    #mask=np.zeros((mask.shape[0],mask.shape[1]),dtype=np.uint8)\n",
    "    #Dibujando un círculos\n",
    "    radio=round(radio)\n",
    "    cv.circle(mask,(x,y),radio,(150),-1)\n",
    "    return mask\n",
    "#     plt.figure(figsize=(12,12))\n",
    "#     plt.imshow(mask, cmap='viridis')"
   ]
  },
  {
   "cell_type": "code",
   "execution_count": 302,
   "id": "patent-clothing",
   "metadata": {},
   "outputs": [
    {
     "name": "stdout",
     "output_type": "stream",
     "text": [
      "[366 240  84]\n",
      "[293 113  20]\n",
      "[213 166  20]\n",
      "[193 312  20]\n",
      "[236 372  20]\n",
      "[551 256  21]\n"
     ]
    },
    {
     "data": {
      "text/plain": [
       "<matplotlib.image.AxesImage at 0x258738be700>"
      ]
     },
     "execution_count": 302,
     "metadata": {},
     "output_type": "execute_result"
    },
    {
     "data": {
      "image/png": "[encoded data removed]",
      "text/plain": [
       "<Figure size 864x864 with 1 Axes>"
      ]
     },
     "metadata": {
      "needs_background": "light"
     },
     "output_type": "display_data"
    }
   ],
   "source": [
    "mask = np.zeros((480,640),dtype=np.uint8)\n",
    "for i in obstaculos:\n",
    "    mask = dibujarObs(mask,i[0],i[1],i[2])\n",
    "    print(i)\n",
    "    \n",
    "plt.figure(figsize=(12,12))\n",
    "plt.imshow(mask, cmap='viridis')"
   ]
  },
  {
   "cell_type": "code",
   "execution_count": 303,
   "id": "living-governor",
   "metadata": {},
   "outputs": [
    {
     "name": "stdout",
     "output_type": "stream",
     "text": [
      "[137 140]\n",
      "[223 140]\n",
      "[223 140]\n",
      "[303 139]\n",
      "[303 139]\n",
      "[466 178]\n",
      "[466 178]\n",
      "[485 256]\n"
     ]
    },
    {
     "data": {
      "text/plain": [
       "<matplotlib.image.AxesImage at 0x25873bdea00>"
      ]
     },
     "execution_count": 303,
     "metadata": {},
     "output_type": "execute_result"
    },
    {
     "data": {
      "image/png": "[encoded data removed]",
      "text/plain": [
       "<Figure size 864x864 with 1 Axes>"
      ]
     },
     "metadata": {
      "needs_background": "light"
     },
     "output_type": "display_data"
    }
   ],
   "source": [
    "#dibujando path\n",
    "p=0\n",
    "for i in pathing:\n",
    "    p=p+1\n",
    "    \n",
    "    if p==5:\n",
    "        break\n",
    "    \n",
    "    cv.line(mask,(i[0],i[1]),(pathing[p][0],pathing[p][1]),(105),2)\n",
    "    print(i)\n",
    "    print(pathing[p])\n",
    "plt.figure(figsize=(12,12))\n",
    "plt.imshow(mask, cmap='viridis')"
   ]
  },
  {
   "cell_type": "code",
   "execution_count": 304,
   "id": "intelligent-wheel",
   "metadata": {},
   "outputs": [],
   "source": [
    "#terminar algoritmo con riesgos controlados\n",
    "#validacion, escenarios diversos sencillos, complejos, imposibles y buscar soluciones\n",
    "##mas iteraciones,conclusiones de algoritmo y buscar planes b\n",
    "#depurar"
   ]
  },
  {
   "cell_type": "code",
   "execution_count": null,
   "id": "selective-combine",
   "metadata": {},
   "outputs": [],
   "source": []
  },
  {
   "cell_type": "code",
   "execution_count": null,
   "id": "swiss-writer",
   "metadata": {},
   "outputs": [],
   "source": []
  }
 ],
 "metadata": {
  "kernelspec": {
   "display_name": "Python 3",
   "language": "python",
   "name": "python3"
  },
  "language_info": {
   "codemirror_mode": {
    "name": "ipython",
    "version": 3
   },
   "file_extension": ".py",
   "mimetype": "text/x-python",
   "name": "python",
   "nbconvert_exporter": "python",
   "pygments_lexer": "ipython3",
   "version": "3.8.5"
  }
 },
 "nbformat": 4,
 "nbformat_minor": 5
}
